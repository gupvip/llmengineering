{
 "cells": [
  {
   "cell_type": "code",
   "execution_count": 1,
   "id": "c2a4e165-07f0-449b-bd5f-b982e33338f8",
   "metadata": {},
   "outputs": [
    {
     "name": "stdout",
     "output_type": "stream",
     "text": [
      "API Key found and looks good!\n"
     ]
    }
   ],
   "source": [
    "import os\n",
    "import requests\n",
    "from dotenv import load_dotenv\n",
    "from bs4 import BeautifulSoup\n",
    "from IPython.display import Markdown, display\n",
    "from openai import OpenAI\n",
    "\n",
    "#Function to get API key for OpanAI from .env file\n",
    "def get_api_key():\n",
    "    load_dotenv(override=True)\n",
    "    api_key = os.getenv(\"OPENAI_API_KEY\")\n",
    "    if not api_key:\n",
    "        print(\"No API Key found\")\n",
    "    elif not api_key.startswith(\"sk-\"):\n",
    "        print(\"Invalid API Key. Should start with sk-\")\n",
    "    elif api_key.strip() != api_key:\n",
    "        print(\"Remove leading and trailing spaces fron the key\")\n",
    "    else:\n",
    "        print(\"API Key found and looks good!\")\n",
    "    return api_key\n",
    "\n",
    "#load API key and OpenAI class\n",
    "api_key = get_api_key()\n",
    "openai = OpenAI()\n"
   ]
  },
  {
   "cell_type": "code",
   "execution_count": 7,
   "id": "a9125c7c-d4da-46c7-964a-13d6208dc335",
   "metadata": {},
   "outputs": [
    {
     "name": "stdout",
     "output_type": "stream",
     "text": [
      "Certainly! Here is the Ganesh Aarti \"Sukh Karta Dukhharta\" with each line presented in Marathi and Hinglish:\n",
      "\n",
      "**Sukh Karta Dukhharta Varta Vighnachi**  \n",
      "सुखकर्ता दुःखहर्ता वर्ता विघ्नाची  \n",
      "Sukh karta dukh harta, varta vighnachi  \n",
      "\n",
      "**Nashat ka Nasha Dinha**  \n",
      "नाशातका नशा दिना  \n",
      "Nashat ka nasha dina  \n",
      "\n",
      "**Gurudevacha Sanga Rakhu**  \n",
      "गुरुदेवा, संगा राखू  \n",
      "Gurudevacha sanga rakhu  \n",
      "\n",
      "**Ambadya Rakhava, Tumcha Aas Kasa Vichaartu**  \n",
      "आंबाद्या राखावा, तुमचा आस कसा विचारतु  \n",
      "Ambadya rakhava, tumcha aas kasa vichartu  \n",
      "\n",
      "**Tujha Dola Ghola**  \n",
      "तुझा डोळा घोळा  \n",
      "Tujha dola ghola  \n",
      "\n",
      "**Danyachya Hirva**  \n",
      "दन्याच्या हिरव्या  \n",
      "Danyachya hirva  \n",
      "\n",
      "**Laghunya Pratyaksha Mahabharat**  \n",
      "लघुन्य प्रत्यक्ष महाभारत  \n",
      "Laghunya pratyaksha mahabharat  \n",
      "\n",
      "**Tula Vachava Handa**  \n",
      "तुला वचवा हांडा  \n",
      "Tula vachava handa  \n",
      "\n",
      "**Vinayak Rahe Vighnachi**  \n",
      "विनायक राहे विघ्नाची  \n",
      "Vinayak rahe vighnachi  \n",
      "\n",
      "Please note that the full Ganesh Arti consists of more verses. If you are looking for the complete Arti text, do let me know, and I can assist with that as well!\n"
     ]
    }
   ],
   "source": [
    "system_prompt = \"your are a marthi, hinglish tutor and need to help associates to have one line of each language as it will help htem in translation\"\n",
    "usert_pompt =\" can you help get the Ganesh Arti 'Sukh Karta Dukhharta Varta Vighnachi', each line needs to be in Marathi, hinglish, it is to be a full arti that needs to be printed\"\n",
    "\n",
    "messages = [\n",
    "    {\"role\": \"system\", \"content\": system_prompt},\n",
    "    {\"role\": \"user\", \"content\": usert_pompt}\n",
    "]\n",
    "\n",
    "response = openai.chat.completions.create(model=\"gpt-4o-mini\", messages=messages)\n",
    "print(response.choices[0].message.content)"
   ]
  }
 ],
 "metadata": {
  "kernelspec": {
   "display_name": "Python 3 (ipykernel)",
   "language": "python",
   "name": "python3"
  },
  "language_info": {
   "codemirror_mode": {
    "name": "ipython",
    "version": 3
   },
   "file_extension": ".py",
   "mimetype": "text/x-python",
   "name": "python",
   "nbconvert_exporter": "python",
   "pygments_lexer": "ipython3",
   "version": "3.12.7"
  }
 },
 "nbformat": 4,
 "nbformat_minor": 5
}
