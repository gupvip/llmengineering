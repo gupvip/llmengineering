{
 "cells": [
  {
   "cell_type": "markdown",
   "id": "cdc2ccbc",
   "metadata": {},
   "source": [
    "# AI-Powered Email Generator\n",
    "\n",
    "This project demonstrates how to use an AI language model to automatically generate professional email bodies and subject lines. By leveraging the OpenAI API, users can input a topic, sender name, and receiver name to receive a ready-to-send email message and a concise subject line. The notebook showcases prompt engineering, API integration, and result display using Markdown for clear presentation."
   ]
  },
  {
   "cell_type": "code",
   "execution_count": null,
   "id": "80e677bd",
   "metadata": {},
   "outputs": [],
   "source": [
    "from openai import OpenAI\n",
    "from IPython.display import display, Markdown"
   ]
  },
  {
   "cell_type": "code",
   "execution_count": null,
   "id": "1ef2c9d4",
   "metadata": {},
   "outputs": [],
   "source": [
    "# config\n",
    "MODEL = \"llama3.2:1b\"\n",
    "base_url='http://localhost:11434/v1'\n",
    "api_key='ollama'\n",
    "client = OpenAI(base_url=base_url, api_key=api_key)"
   ]
  },
  {
   "cell_type": "code",
   "execution_count": null,
   "id": "f47f9e4d",
   "metadata": {},
   "outputs": [],
   "source": [
    "def generate_email_body(topic, sender_name, receiver_name):\n",
    "\n",
    "    system_prompt = \"\"\"\n",
    "    You are an expert email writer.\n",
    "\n",
    "    STRICT RULES:\n",
    "    1. Write ONLY the email BODY text (the main message).\n",
    "    2. Do NOT include a subject line.\n",
    "    3. Do NOT include any headers (no \"To:\", \"From:\", \"Cc:\", \"Bcc:\").\n",
    "    4. Do NOT include explanations, notes, or extra commentary.\n",
    "    5. Do NOT use markdown, code fences, or formatting artifacts.\n",
    "    6. Output should be plain, professional, send-ready text.\n",
    "\n",
    "    Your response must always be just the body of the email and nothing else.\n",
    "    \"\"\"\n",
    "\n",
    "\n",
    "    user_prompt = f\"\"\"\n",
    "    Compose a clear, professional email body on the topic: \"{topic}\".\n",
    "    The email should be written as if it is from \"{sender_name}\" to \"{receiver_name}\".\n",
    "    Do not include a subject line, headers, or anything outside the body text.\n",
    "    Return only the body of the email.\n",
    "    \"\"\"\n",
    "\n",
    "    response = client.chat.completions.create(\n",
    "        model = MODEL,\n",
    "        messages=[\n",
    "            {\"role\": \"system\", \"content\": system_prompt},\n",
    "            {\"role\": \"user\", \"content\": user_prompt}\n",
    "        ]\n",
    "    )\n",
    "\n",
    "    return response.choices[0].message.content"
   ]
  },
  {
   "cell_type": "code",
   "execution_count": null,
   "id": "052aa87d",
   "metadata": {},
   "outputs": [],
   "source": [
    "def generate_email_subject(email_body: str) -> str:\n",
    "    \"\"\"\n",
    "    Generate a concise, professional subject line based on the given email body.\n",
    "    Returns ONLY the subject line (no 'Subject:' prefix, no quotes, no extra text).\n",
    "    \"\"\"\n",
    "\n",
    "    system_prompt = \"\"\"\n",
    "    You are an expert in writing professional email subject lines.\n",
    "\n",
    "    STRICT RULES:\n",
    "    1. Write ONLY the subject line text.\n",
    "    2. Do NOT include the word \"Subject:\" or any prefix.\n",
    "    3. Do NOT include punctuation like quotes around the subject.\n",
    "    4. Do NOT explain or add commentary.\n",
    "    5. Keep it concise, clear, and professional.\n",
    "    \"\"\"\n",
    "\n",
    "    user_prompt = f\"\"\"\n",
    "    Read the following email body and generate a suitable subject line.\n",
    "    Email Body:\n",
    "    ---\n",
    "    {email_body}\n",
    "    ---\n",
    "    Return only the subject line text.\n",
    "    \"\"\"\n",
    "\n",
    "    response = client.chat.completions.create(\n",
    "        model=MODEL,\n",
    "        messages=[\n",
    "            {\"role\": \"system\", \"content\": system_prompt},\n",
    "            {\"role\": \"user\", \"content\": user_prompt}\n",
    "        ]\n",
    "    )\n",
    "\n",
    "    return response.choices[0].message.content.strip()"
   ]
  },
  {
   "cell_type": "code",
   "execution_count": null,
   "id": "d9ee3337",
   "metadata": {},
   "outputs": [],
   "source": [
    "# body = generate_email_body(\"Sick Leabe for 2 days\", \"Alice\", \"Bob\")\n",
    "# subject = generate_email_subject(body)\n",
    "\n",
    "def write_email_and_subject(topic, sender_name, receiver_name):\n",
    "    body = generate_email_body(topic, sender_name, receiver_name)\n",
    "    subject = generate_email_subject(body)\n",
    "\n",
    "    print(\"Subject\")\n",
    "    display(Markdown(subject))\n",
    "\n",
    "    print(\"Body\")\n",
    "    display(Markdown(body))"
   ]
  },
  {
   "cell_type": "code",
   "execution_count": null,
   "id": "b3e0af7b",
   "metadata": {},
   "outputs": [],
   "source": [
    "write_email_and_subject(\"Sick Leave for 2 days\", \"Ravi\", \"Sameer\")"
   ]
  }
 ],
 "metadata": {
  "kernelspec": {
   "display_name": "llms",
   "language": "python",
   "name": "python3"
  },
  "language_info": {
   "codemirror_mode": {
    "name": "ipython",
    "version": 3
   },
   "file_extension": ".py",
   "mimetype": "text/x-python",
   "name": "python",
   "nbconvert_exporter": "python",
   "pygments_lexer": "ipython3",
   "version": "3.11.13"
  }
 },
 "nbformat": 4,
 "nbformat_minor": 5
}
