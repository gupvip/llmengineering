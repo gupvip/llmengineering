{
 "cells": [
  {
   "cell_type": "code",
   "execution_count": 1,
   "id": "50ed5733",
   "metadata": {},
   "outputs": [],
   "source": [
    "# imports\n",
    "\n",
    "import os\n",
    "import requests\n",
    "from dotenv import load_dotenv\n",
    "from bs4 import BeautifulSoup\n",
    "from IPython.display import Markdown, display\n",
    "from openai import OpenAI\n",
    "\n",
    "# If you get an error running this cell, then please head over to the troubleshooting notebook!"
   ]
  },
  {
   "cell_type": "code",
   "execution_count": 2,
   "id": "a3b173a9",
   "metadata": {},
   "outputs": [
    {
     "name": "stdout",
     "output_type": "stream",
     "text": [
      "API key found and looks good so far!\n"
     ]
    }
   ],
   "source": [
    "# Load environment variables in a file called .env\n",
    "\n",
    "load_dotenv(override=True)\n",
    "api_key = os.getenv('OPENAI_API_KEY')\n",
    "\n",
    "# Check the key\n",
    "\n",
    "if not api_key:\n",
    "    print(\"No API key was found - please head over to the troubleshooting notebook in this folder to identify & fix!\")\n",
    "elif not api_key.startswith(\"sk-proj-\"):\n",
    "    print(\"An API key was found, but it doesn't start sk-proj-; please check you're using the right key - see troubleshooting notebook\")\n",
    "elif api_key.strip() != api_key:\n",
    "    print(\"An API key was found, but it looks like it might have space or tab characters at the start or end - please remove them - see troubleshooting notebook\")\n",
    "else:\n",
    "    print(\"API key found and looks good so far!\")\n"
   ]
  },
  {
   "cell_type": "code",
   "execution_count": 3,
   "id": "191c7214",
   "metadata": {},
   "outputs": [],
   "source": [
    "openai = OpenAI()\n",
    "\n",
    "# If this doesn't work, try Kernel menu >> Restart Kernel and Clear Outputs Of All Cells, then run the cells from the top of this notebook down.\n",
    "# If it STILL doesn't work (horrors!) then please see the Troubleshooting notebook in this folder for full instructions"
   ]
  },
  {
   "cell_type": "code",
   "execution_count": 4,
   "id": "50adea39",
   "metadata": {},
   "outputs": [],
   "source": [
    "system_prompt = \"\"\"Generate a detailed travel recommendation.Include the following information: \\\n",
    "    1.**Overview**: A brief introduction to the destination, highlighting its unique characteristics and appeal.\\\n",
    "    2.**Cost Breakdown**: - Average cost of accommodation (budget, mid-range, luxury options).\\\n",
    "        - Estimated daily expenses (food, transportation, activities).\\\n",
    "        - Total estimated cost for a typical 5-day trip for a solo traveler and a family of four.\\\n",
    "    3.**Best Time to Visit**: \\\n",
    "        - Identify the peak, shoulder, and off-peak seasons.\\\n",
    "        - Highlight the pros and cons of visiting during each season, including weather conditions and local events.\\\n",
    "    4.**Hidden Gems**: - List at least five lesser-known attractions or experiences that are must-sees.\\\n",
    "        - Provide a brief description of each hidden gem, including why it is special and any tips for visiting.\\\n",
    "            5.**Local Tips**: \\\n",
    "                - Suggest local customs or etiquette that travelers should be aware of.\\\n",
    "                - Recommend local dishes to try and where to find them.Make sure the recommendation is engaging and informative, appealing to a diverse range of travelers.\"\"\""
   ]
  },
  {
   "cell_type": "code",
   "execution_count": 5,
   "id": "aaac13d8",
   "metadata": {},
   "outputs": [],
   "source": [
    "def messages_for(user_prompt):\n",
    "    return [\n",
    "        {\"role\": \"system\", \"content\": system_prompt},\n",
    "        {\"role\": \"user\", \"content\": user_prompt }\n",
    "    ]\n",
    "\n",
    "def recommender():\n",
    "    response = openai.chat.completions.create(\n",
    "        model = \"gpt-4o-mini\",\n",
    "        messages = messages_for(f\"Create a travel recommendation for couple in the singapore\")\n",
    "    )\n",
    "    return response.choices[0].message.content"
   ]
  },
  {
   "cell_type": "code",
   "execution_count": 6,
   "id": "efad902a",
   "metadata": {},
   "outputs": [],
   "source": [
    "def display_result():\n",
    "    recommendendation = recommender()\n",
    "    display(Markdown(recommendendation))"
   ]
  },
  {
   "cell_type": "code",
   "execution_count": 7,
   "id": "5564c22c",
   "metadata": {},
   "outputs": [
    {
     "data": {
      "text/markdown": [
       "**Travel Recommendation: Exploring the Allure of Singapore for Couples**\n",
       "\n",
       "### 1. Overview\n",
       "Calling all romantics! Singapore, a dazzling city-state known for its harmonious blend of cultures, modernity, and greenery, is a perfect destination for couples seeking a unique travel experience. As a melting pot of diverse traditions, Singapore boasts futuristic architecture, lush parks, and an array of culinary delights. Whether you’re wandering through the enchanting Gardens By The Bay, savoring local street food, or unwinding by the Marina Bay Sands, this city offers an unforgettable romantic escape.\n",
       "\n",
       "### 2. Cost Breakdown\n",
       "- **Accommodation:**\n",
       "  - **Budget**: Hostels and budget hotels range from SGD 30 to SGD 80 per night.\n",
       "  - **Mid-Range**: Boutique hotels or well-rated chains average SGD 100 to SGD 250 per night.\n",
       "  - **Luxury**: Iconic hotels, such as Marina Bay Sands, start around SGD 300, with many options exceeding SGD 1,000 per night.\n",
       "\n",
       "- **Estimated Daily Expenses:**\n",
       "  - **Food**: SGD 10 to SGD 50 per person. Street food and hawker centers are budget-friendly (SGD 5-10), while upscale dining can cost SGD 40-100.\n",
       "  - **Transportation**: SGD 5-15 per person, with efficient public transport options like the MRT and buses.\n",
       "  - **Activities**: SGD 20-50 for attractions like the Singapore Zoo or Universal Studios.\n",
       "\n",
       "- **Total Estimated Cost for a Typical 5-Day Trip**:\n",
       "  - **Solo Traveler**: \n",
       "    - Accommodation (mid-range): SGD 1,000\n",
       "    - Daily expenses: SGD 350 (SGD 70 x 5 days) \n",
       "    - **Total**: SGD 1,350\n",
       "  - **Family of Four**:\n",
       "    - Accommodation (mid-range): SGD 1,250\n",
       "    - Daily expenses: SGD 1,400 (SGD 280 x 5 days)\n",
       "    - **Total**: SGD 2,650 \n",
       "\n",
       "### 3. Best Time to Visit\n",
       "- **Peak Season (December – February)**: This period brings cooler weather and numerous local festivals like Christmas and Chinese New Year. Pros include vibrant celebrations and beautiful decorations. However, be prepared for higher accommodation rates and larger crowds.\n",
       "\n",
       "- **Shoulder Season (March – May)**: A convenient time to visit with pleasant weather and fewer tourists. Local events like the Singapore Food Festival take place. However, humidity can increase as summer approaches.\n",
       "\n",
       "- **Off-Peak Season (June – August)**: Expect lower prices and fewer crowds, but be mindful of the heat and humidity. Some attractions may have fewer events or activities during this time. This season is known for the Great Singapore Sale, offering unbeatable shopping deals!\n",
       "\n",
       "### 4. Hidden Gems\n",
       "- **Fort Canning Park**: This tranquil green oasis is rich in history. Explore the ancient artifacts, lush gardens, and enjoy a scenic picnic. Plan a visit during the late afternoon for stunning sunset views.\n",
       "\n",
       "- **Haji Lane**: Escape the hustle and bustle of the city by wandering down this lesser-known street adorned with colorful murals and unique boutiques. It’s an Instagram-worthy spot perfect for spontaneous photoshoots.\n",
       "\n",
       "- **Kampong Glam**: A historical area filled with trendy cafes, shisha lounges, and the majestic Sultan Mosque. Experience the beautiful blend of culture and contemporary style while exploring.\n",
       "\n",
       "- **Haw Par Villa**: A quirky theme park that showcases Chinese mythology and folklore through larger-than-life sculptures. It’s a unique cultural experience that’s perfect for those interested in art and history.\n",
       "\n",
       "- **Coney Island**: This hidden gem is a short ferry ride away from Singapore, boasting beautiful landscapes and walking trails. Rent bicycles to explore the lush greenery and enjoy a more secluded beach experience.\n",
       "\n",
       "### 5. Local Tips\n",
       "- **Customs and Etiquette**: Singaporeans value politeness and respect for personal space. Avoid loud conversations in public, and remember to remove your shoes when entering someone’s home.\n",
       "\n",
       "- **Local Dishes to Try**:\n",
       "  - **Hainanese Chicken Rice**: A must-try dish; head to the famous Tian Tian Hainanese Chicken Rice at Maxwell Food Centre.\n",
       "  - **Chilli Crab**: One of Singapore's signature dishes; enjoy it at No Signboard Seafood.\n",
       "  - **Laksa**: A delicious spicy noodle soup best found at 328 Katong Laksa.\n",
       "  - **Char Kway Teow**: Stir-fried flat rice noodles, best enjoyed at any hawker center.\n",
       "\n",
       "Pack your bags, bring your sense of adventure, and immerse yourself in the vibrance of Singapore—a destination that promises to ignite romance and create lasting memories for couples!"
      ],
      "text/plain": [
       "<IPython.core.display.Markdown object>"
      ]
     },
     "metadata": {},
     "output_type": "display_data"
    }
   ],
   "source": [
    "display_result()"
   ]
  },
  {
   "cell_type": "code",
   "execution_count": null,
   "id": "c66b461d",
   "metadata": {},
   "outputs": [],
   "source": []
  },
  {
   "cell_type": "code",
   "execution_count": null,
   "id": "124a2fe9-9c86-4711-bf7a-febae119c3f3",
   "metadata": {},
   "outputs": [],
   "source": []
  }
 ],
 "metadata": {
  "kernelspec": {
   "display_name": "Python 3 (ipykernel)",
   "language": "python",
   "name": "python3"
  },
  "language_info": {
   "codemirror_mode": {
    "name": "ipython",
    "version": 3
   },
   "file_extension": ".py",
   "mimetype": "text/x-python",
   "name": "python",
   "nbconvert_exporter": "python",
   "pygments_lexer": "ipython3",
   "version": "3.12.7"
  }
 },
 "nbformat": 4,
 "nbformat_minor": 5
}
