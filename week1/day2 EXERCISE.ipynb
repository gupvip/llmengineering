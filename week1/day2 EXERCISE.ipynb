{
 "cells": [
  {
   "cell_type": "markdown",
   "id": "d15d8294-3328-4e07-ad16-8a03e9bbfdb9",
   "metadata": {},
   "source": [
    "# Welcome to your first assignment!\n",
    "\n",
    "Instructions are below. Please give this a try, and look in the solutions folder if you get stuck (or feel free to ask me!)"
   ]
  },
  {
   "cell_type": "markdown",
   "id": "ada885d9-4d42-4d9b-97f0-74fbbbfe93a9",
   "metadata": {},
   "source": [
    "<table style=\"margin: 0; text-align: left;\">\n",
    "    <tr>\n",
    "        <td style=\"width: 150px; height: 150px; vertical-align: middle;\">\n",
    "            <img src=\"../resources.jpg\" width=\"150\" height=\"150\" style=\"display: block;\" />\n",
    "        </td>\n",
    "        <td>\n",
    "            <h2 style=\"color:#f71;\">Just before we get to the assignment --</h2>\n",
    "            <span style=\"color:#f71;\">I thought I'd take a second to point you at this page of useful resources for the course. This includes links to all the slides.<br/>\n",
    "            <a href=\"https://edwarddonner.com/2024/11/13/llm-engineering-resources/\">https://edwarddonner.com/2024/11/13/llm-engineering-resources/</a><br/>\n",
    "            Please keep this bookmarked, and I'll continue to add more useful links there over time.\n",
    "            </span>\n",
    "        </td>\n",
    "    </tr>\n",
    "</table>"
   ]
  },
  {
   "cell_type": "markdown",
   "id": "6e9fa1fc-eac5-4d1d-9be4-541b3f2b3458",
   "metadata": {},
   "source": [
    "# HOMEWORK EXERCISE ASSIGNMENT\n",
    "\n",
    "Upgrade the day 1 project to summarize a webpage to use an Open Source model running locally via Ollama rather than OpenAI\n",
    "\n",
    "You'll be able to use this technique for all subsequent projects if you'd prefer not to use paid APIs.\n",
    "\n",
    "**Benefits:**\n",
    "1. No API charges - open-source\n",
    "2. Data doesn't leave your box\n",
    "\n",
    "**Disadvantages:**\n",
    "1. Significantly less power than Frontier Model\n",
    "\n",
    "## Recap on installation of Ollama\n",
    "\n",
    "Simply visit [ollama.com](https://ollama.com) and install!\n",
    "\n",
    "Once complete, the ollama server should already be running locally.  \n",
    "If you visit:  \n",
    "[http://localhost:11434/](http://localhost:11434/)\n",
    "\n",
    "You should see the message `Ollama is running`.  \n",
    "\n",
    "If not, bring up a new Terminal (Mac) or Powershell (Windows) and enter `ollama serve`  \n",
    "And in another Terminal (Mac) or Powershell (Windows), enter `ollama pull llama3.2`  \n",
    "Then try [http://localhost:11434/](http://localhost:11434/) again.\n",
    "\n",
    "If Ollama is slow on your machine, try using `llama3.2:1b` as an alternative. Run `ollama pull llama3.2:1b` from a Terminal or Powershell, and change the code below from `MODEL = \"llama3.2\"` to `MODEL = \"llama3.2:1b\"`"
   ]
  },
  {
   "cell_type": "code",
   "execution_count": null,
   "id": "4e2a9393-7767-488e-a8bf-27c12dca35bd",
   "metadata": {},
   "outputs": [],
   "source": [
    "# imports\n",
    "\n",
    "import requests\n",
    "from bs4 import BeautifulSoup\n",
    "from IPython.display import Markdown, display"
   ]
  },
  {
   "cell_type": "code",
   "execution_count": null,
   "id": "29ddd15d-a3c5-4f4e-a678-873f56162724",
   "metadata": {},
   "outputs": [],
   "source": [
    "# Constants\n",
    "\n",
    "OLLAMA_API = \"http://localhost:11434/api/chat\"\n",
    "HEADERS = {\"Content-Type\": \"application/json\"}\n",
    "MODEL = \"llama3.2\""
   ]
  },
  {
   "cell_type": "code",
   "execution_count": null,
   "id": "dac0a679-599c-441f-9bf2-ddc73d35b940",
   "metadata": {},
   "outputs": [],
   "source": [
    "# Create a messages list using the same format that we used for OpenAI\n",
    "\n",
    "messages = [\n",
    "    {\"role\": \"user\", \"content\": \"Describe some of the business applications of Generative AI\"}\n",
    "]"
   ]
  },
  {
   "cell_type": "code",
   "execution_count": null,
   "id": "7bb9c624-14f0-4945-a719-8ddb64f66f47",
   "metadata": {},
   "outputs": [],
   "source": [
    "payload = {\n",
    "        \"model\": MODEL,\n",
    "        \"messages\": messages,\n",
    "        \"stream\": False\n",
    "    }"
   ]
  },
  {
   "cell_type": "code",
   "execution_count": null,
   "id": "479ff514-e8bd-4985-a572-2ea28bb4fa40",
   "metadata": {},
   "outputs": [],
   "source": [
    "# Let's just make sure the model is loaded\n",
    "\n",
    "!ollama pull llama3.2"
   ]
  },
  {
   "cell_type": "code",
   "execution_count": null,
   "id": "42b9f644-522d-4e05-a691-56e7658c0ea9",
   "metadata": {},
   "outputs": [],
   "source": [
    "# If this doesn't work for any reason, try the 2 versions in the following cells\n",
    "# And double check the instructions in the 'Recap on installation of Ollama' at the top of this lab\n",
    "# And if none of that works - contact me!\n",
    "\n",
    "response = requests.post(OLLAMA_API, json=payload, headers=HEADERS)\n",
    "print(response.json()['message']['content'])"
   ]
  },
  {
   "cell_type": "markdown",
   "id": "6a021f13-d6a1-4b96-8e18-4eae49d876fe",
   "metadata": {},
   "source": [
    "# Introducing the ollama package\n",
    "\n",
    "And now we'll do the same thing, but using the elegant ollama python package instead of a direct HTTP call.\n",
    "\n",
    "Under the hood, it's making the same call as above to the ollama server running at localhost:11434"
   ]
  },
  {
   "cell_type": "code",
   "execution_count": null,
   "id": "7745b9c4-57dc-4867-9180-61fa5db55eb8",
   "metadata": {},
   "outputs": [],
   "source": [
    "import ollama\n",
    "\n",
    "response = ollama.chat(model=MODEL, messages=messages)\n",
    "print(response['message']['content'])"
   ]
  },
  {
   "cell_type": "markdown",
   "id": "a4704e10-f5fb-4c15-a935-f046c06fb13d",
   "metadata": {},
   "source": [
    "## Alternative approach - using OpenAI python library to connect to Ollama"
   ]
  },
  {
   "cell_type": "code",
   "execution_count": null,
   "id": "23057e00-b6fc-4678-93a9-6b31cb704bff",
   "metadata": {},
   "outputs": [],
   "source": [
    "# There's actually an alternative approach that some people might prefer\n",
    "# You can use the OpenAI client python library to call Ollama:\n",
    "\n",
    "from openai import OpenAI\n",
    "ollama_via_openai = OpenAI(base_url='http://localhost:11434/v1', api_key='ollama')\n",
    "\n",
    "response = ollama_via_openai.chat.completions.create(\n",
    "    model=MODEL,\n",
    "    messages=messages\n",
    ")\n",
    "\n",
    "print(response.choices[0].message.content)"
   ]
  },
  {
   "cell_type": "markdown",
   "id": "9f9e22da-b891-41f6-9ac9-bd0c0a5f4f44",
   "metadata": {},
   "source": [
    "## Are you confused about why that works?\n",
    "\n",
    "It seems strange, right? We just used OpenAI code to call Ollama?? What's going on?!\n",
    "\n",
    "Here's the scoop:\n",
    "\n",
    "The python class `OpenAI` is simply code written by OpenAI engineers that makes calls over the internet to an endpoint.  \n",
    "\n",
    "When you call `openai.chat.completions.create()`, this python code just makes a web request to the following url: \"https://api.openai.com/v1/chat/completions\"\n",
    "\n",
    "Code like this is known as a \"client library\" - it's just wrapper code that runs on your machine to make web requests. The actual power of GPT is running on OpenAI's cloud behind this API, not on your computer!\n",
    "\n",
    "OpenAI was so popular, that lots of other AI providers provided identical web endpoints, so you could use the same approach.\n",
    "\n",
    "So Ollama has an endpoint running on your local box at http://localhost:11434/v1/chat/completions  \n",
    "And in week 2 we'll discover that lots of other providers do this too, including Gemini and DeepSeek.\n",
    "\n",
    "And then the team at OpenAI had a great idea: they can extend their client library so you can specify a different 'base url', and use their library to call any compatible API.\n",
    "\n",
    "That's it!\n",
    "\n",
    "So when you say: `ollama_via_openai = OpenAI(base_url='http://localhost:11434/v1', api_key='ollama')`  \n",
    "Then this will make the same endpoint calls, but to Ollama instead of OpenAI."
   ]
  },
  {
   "cell_type": "markdown",
   "id": "bc7d1de3-e2ac-46ff-a302-3b4ba38c4c90",
   "metadata": {},
   "source": [
    "## Also trying the amazing reasoning model DeepSeek\n",
    "\n",
    "Here we use the version of DeepSeek-reasoner that's been distilled to 1.5B.  \n",
    "This is actually a 1.5B variant of Qwen that has been fine-tuned using synethic data generated by Deepseek R1.\n",
    "\n",
    "Other sizes of DeepSeek are [here](https://ollama.com/library/deepseek-r1) all the way up to the full 671B parameter version, which would use up 404GB of your drive and is far too large for most!"
   ]
  },
  {
   "cell_type": "code",
   "execution_count": null,
   "id": "1d3d554b-e00d-4c08-9300-45e073950a76",
   "metadata": {},
   "outputs": [],
   "source": [
    "# This may take a few minutes to run! You should then see a fascinating \"thinking\" trace inside <think> tags, followed by some decent definitions\n",
    "\n",
    "response = ollama_via_openai.chat.completions.create(\n",
    "    model=\"deepseek-r1:1.5b\",\n",
    "    messages=[{\"role\": \"user\", \"content\": \"Please give definitions of some core concepts behind LLMs: a neural network, attention and the transformer\"}]\n",
    ")\n",
    "\n",
    "print(response.choices[0].message.content)"
   ]
  },
  {
   "cell_type": "markdown",
   "id": "1622d9bb-5c68-4d4e-9ca4-b492c751f898",
   "metadata": {},
   "source": [
    "# NOW the exercise for you\n",
    "\n",
    "Take the code from day1 and incorporate it here, to build a website summarizer that uses Llama 3.2 running locally instead of OpenAI; use either of the above approaches."
   ]
  },
  {
   "cell_type": "code",
   "execution_count": 35,
   "id": "6de38216-6d1c-48c4-877b-86d403f4e0f8",
   "metadata": {},
   "outputs": [],
   "source": [
    "import os\n",
    "import requests\n",
    "from bs4 import BeautifulSoup\n",
    "from IPython.display import Markdown, display\n",
    "import ollama"
   ]
  },
  {
   "cell_type": "code",
   "execution_count": 19,
   "id": "25f8cf4e-cdb0-4e71-8ea3-c88b4e80e99b",
   "metadata": {},
   "outputs": [],
   "source": [
    "# Constants\n",
    "OLLAMA_API = \"http://localhost:11434/api/chat\"\n",
    "HEADERS = {\"Content-Type\": \"application/json\"}\n",
    "MODEL = \"llama3.2\""
   ]
  },
  {
   "cell_type": "code",
   "execution_count": 20,
   "id": "d676be3f-c3e9-4ce1-9c0b-d6a364df342b",
   "metadata": {},
   "outputs": [],
   "source": [
    "# Create a messages list using the same format that we used for OpenAI\n",
    "\n",
    "messages = [\n",
    "    {\"role\": \"user\", \"content\": \"Hello Ollama, how are you today?\"}\n",
    "]"
   ]
  },
  {
   "cell_type": "code",
   "execution_count": 21,
   "id": "fb7ea059-1fd9-4aad-8e45-bd32c1b161d8",
   "metadata": {},
   "outputs": [],
   "source": [
    "#Payload\n",
    "payload = {\n",
    "        \"model\": MODEL,\n",
    "        \"messages\": messages,\n",
    "        \"stream\": False\n",
    "    }"
   ]
  },
  {
   "cell_type": "code",
   "execution_count": 22,
   "id": "07b69380-b71f-4890-96dc-2c23112dbb56",
   "metadata": {},
   "outputs": [
    {
     "name": "stdout",
     "output_type": "stream",
     "text": [
      "Hello! I'm just a language model, so I don't have feelings or emotions like humans do, but I'm functioning properly and ready to assist you with any questions or tasks you may have. How about you? How's your day going so far?\n"
     ]
    }
   ],
   "source": [
    "response = requests.post(OLLAMA_API, json=payload, headers=HEADERS)\n",
    "print(response.json()['message']['content'])"
   ]
  },
  {
   "cell_type": "code",
   "execution_count": 23,
   "id": "53b72adb-c2a3-4c2d-8940-db3bdd5201d2",
   "metadata": {},
   "outputs": [],
   "source": [
    "# A class to represent a Webpage\n",
    "# If you're not familiar with Classes, check out the \"Intermediate Python\" notebook\n",
    "\n",
    "# Some websites need you to use proper headers when fetching them:\n",
    "headers = {\n",
    " \"User-Agent\": \"Mozilla/5.0 (Windows NT 10.0; Win64; x64) AppleWebKit/537.36 (KHTML, like Gecko) Chrome/117.0.0.0 Safari/537.36\"\n",
    "}\n",
    "\n",
    "class Website:\n",
    "\n",
    "    def __init__(self, url):\n",
    "        \"\"\"\n",
    "        Create this Website object from the given url using the BeautifulSoup library\n",
    "        \"\"\"\n",
    "        self.url = url\n",
    "        response = requests.get(url, headers=headers)\n",
    "        soup = BeautifulSoup(response.content, 'html.parser')\n",
    "        self.title = soup.title.string if soup.title else \"No title found\"\n",
    "        for irrelevant in soup.body([\"script\", \"style\", \"img\", \"input\"]):\n",
    "            irrelevant.decompose()\n",
    "        self.text = soup.body.get_text(separator=\"\\n\", strip=True)"
   ]
  },
  {
   "cell_type": "code",
   "execution_count": null,
   "id": "42030d5d-ea64-48a9-9584-91e1a2ed55fc",
   "metadata": {},
   "outputs": [],
   "source": [
    "micro = Website(\"https://www.microsiervos.com/\")\n",
    "print(micro.title)\n",
    "print(micro.text)"
   ]
  },
  {
   "cell_type": "code",
   "execution_count": 26,
   "id": "24528536-bf28-481f-a3e2-080e538752a9",
   "metadata": {},
   "outputs": [],
   "source": [
    "system_prompt = \"You are an assistant that analyzes the contents of a website \\\n",
    "and provides a short summary, ignoring text that might be navigation related. \\\n",
    "Respond in markdown.\""
   ]
  },
  {
   "cell_type": "code",
   "execution_count": 27,
   "id": "07c10bb1-ce9d-49a1-b4b7-b1ebd621a0f0",
   "metadata": {},
   "outputs": [],
   "source": [
    "# A function that writes a User Prompt that asks for summaries of websites:\n",
    "\n",
    "def user_prompt_for(website):\n",
    "    user_prompt = f\"You are looking at a website titled {website.title}\"\n",
    "    user_prompt += \"\\nThe contents of this website is as follows; \\\n",
    "please provide a short summary of this website in markdown. \\\n",
    "If it includes news or announcements, then summarize these too.\\n\\n\"\n",
    "    user_prompt += website.text\n",
    "    return user_prompt"
   ]
  },
  {
   "cell_type": "code",
   "execution_count": null,
   "id": "551761b9-58bf-477c-af65-d0c265a934c9",
   "metadata": {},
   "outputs": [],
   "source": [
    "print(user_prompt_for(micro))"
   ]
  },
  {
   "cell_type": "code",
   "execution_count": 33,
   "id": "bf1e34c2-1a98-4eed-87cf-c29929c5c84d",
   "metadata": {},
   "outputs": [],
   "source": [
    "def messages_for(website):\n",
    "    return [\n",
    "        {\"role\": \"system\", \"content\": system_prompt },\n",
    "        {\"role\": \"user\", \"content\": user_prompt_for(website)}\n",
    "    ]"
   ]
  },
  {
   "cell_type": "code",
   "execution_count": 34,
   "id": "9d8dbaa9-70b3-4485-94a6-26e202e75d77",
   "metadata": {},
   "outputs": [
    {
     "data": {
      "text/plain": [
       "[{'role': 'system',\n",
       "  'content': 'You are an assistant that analyzes the contents of a website and provides a short summary, ignoring text that might be navigation related. Respond in markdown.'},\n",
       " {'role': 'user',\n",
       "  'content': 'You are looking at a website titled Microsiervos: ciencia, tecnología, internet y mucho más\\nThe contents of this website is as follows; please provide a short summary of this website in markdown. If it includes news or announcements, then summarize these too.\\n\\nHola, y gracias por el pescado\\nPortada\\nSecciones/Buscar\\nHumor\\nContactar\\nTienda\\nLibro\\n¡Salta!\\nBuscar\\nHumor\\nTienda\\nLibro\\n¡Salta!\\nSeguridad\\nUn estudio histórico sobre la criptografía española entre los siglos XV y XVIII: los códigos y cifrados de reyes, embajadores y gobernadores\\nPor\\n@Alvy\\n—\\n16 de agosto de 2025\\nEn la Biblioteca Virtual Miguel de Cervantes tienen esta pequeña joya de acceso libre en un PDF de 124 páginas:\\nCriptografía española\\n, un libro de Mariano Alcocer de 1934. Es un estudio histórico sobre el uso de cifrados y códigos (cifras y claves, en otras denominaciones) en la diplomacia española, especialmente entre los siglos XV y XVIII. Recordemos la diferencia histórica entre ambos conceptos:\\nEn el\\ncifrado\\nse cambia cada letra o símbolo por otro, mediante unas reglas fijas, con una clave, con la que se puede luego reconstruir el original. Por ejemplo en el cifrado César si se cambia cada letra por la que está a cinco letras de distancia se cifra «arma» como «fwrf». Hay que ponerse de acuerdo en el alfabeto que se empleará y transmitir las claves previamente de forma segura.\\nEn los\\ncódigos\\nciertas palabras se abrevian o cambian por números, dibujos u otras palabras acordados de antemano; por ejemplo\\n347\\npuede significar «el Rey» y\\nárbol\\n, «batalla». Mediante un gran libro de claves se puede codificar cualquier mensaje y que, mientras nadie lo conozca, ser más o menos secreto (excepto que se puedan deducir las equivalencias).\\nEn el libro se explica cómo se empleaban todos estos alfabetos, signos, números o símbolos para\\nocultar correspondencia política y militar,\\nincluyendo una recopilación de más de 400 claves conservadas en archivos como el de Simancas.\\nEl momento álgido fue durante el reinado de Felipe II,\\ncuando servían para proteger comunicaciones sensibles que se habían de transmitir por toda Europa. Hay desde cifrados simples basados en\\nalfabetos\\nhasta sistemas más sofisticados con\\nnúmeros, notas musicales o símbolos ininteligibles\\ny además preciosos.\\nEsta obra ha servido a los investigadores para\\ndescifrar documentos históricos\\n, hasta entonces enigmáticos, que han ayudado a entender la política exterior española de la época. Hoy en día se utilizan sistemas basados en\\nIA\\npara examinar algunos de esos documentos todavía no descifrados para que encuentren patrones y desvele sus enigmas.\\nCompartir / Conversar\\nPUBLICIDAD\\nTecnología\\nLa colección de las populares (en sus tiempos) mini libretas sobre electrónica de Forrest Mims\\nPor\\n@Alvy\\n—\\n16 de agosto de 2025\\nEn nuestro admirado\\nArchivo de Internet\\ntienen escaneadas muchas de las\\nlibretas sobre electrónica\\nde la serie\\nEngineer’s Notebook\\nque publicaba Radio Shack en los años 70. Independientemente de su contenido, que es interesante, son una preciosidad digna de admirar: están\\nescritas y dibujadas a mano\\ny publicadas tal cual.\\nEsto es difícil de imaginar hoy en día, pero como puede verse en las páginas escaneadas el original estaba\\nescrito y dibujado a mano con rotulador sobre papel cuadriculado\\n; nada de composición de textos ni de plantillas para dibujar los componentes. Al parecer la editorial decidió publicarlos así, con ese\\nplus\\nde «encanto manual» y solo compuso fotográficamente la cubierta. Algunas de las libretas sí que van (al menos parcialmente) escritas a máquina, aunque sin composición.\\nCuenta Forrest Mims, su autor, que\\nse vendieron unas 650.000 copias\\n, una cifra importante incluso siendo el mercado básicamente sólo el estadounidense. Mims, por cierto, era un autodidacta de la electrónica y fue uno de los cofundadores de MITS, creadores del legendario\\nAltair 8800\\n.\\nLos libros están ahora en el dominio público. En la\\ncolección de Forrest Mims en Archive.org\\nhay muchas pequeñas libretas temáticas de este estilo, que se vendían originalmente a 2 dólares:\\nelectrónica básica, sensores, semiconductores, el chip 555, comunicaciones, optoelectrónica\\n…\\xa0Más que suficiente para aprender algo, entretenerse y además darle gusto a la vista.\\n(Vía\\nHackaday\\n.)\\nCompartir / Conversar\\nPUBLICIDAD\\nMatemáticas\\nLa curiosa disposición de los números primos cuando se marcan sobre una cuadrícula\\nPor\\n@Alvy\\n—\\n15 de agosto de 2025\\nEn esta\\ncuadrícula de números primos\\nlos números naturales que no son divisibles nada más que por sí mismos y por la unidad están dispuestos en el orden de lectura: de izquierda a derecha y de arriba abajo. Los primos se marcan con un píxel, los compuestos se dejan en blanco. El\\nzoom\\nayuda a verlo todo al tamaño ideal.\\n¿Sirve esto para algo? En palabras de\\nDanny Duplex\\n, que se dedica a\\n«resolver los problemas menos importantes del mundo»\\ntan solo sirve para\\nencontrar patrones visuales interesantes\\n, para lo cual se puede variar el tamaño de la cuadrícula, ancho y alto. Como si eso sirviera para algo…\\nMmm…\\nQuién sabe si alguien encontrará la respuesta al sentido de la vida, el universo y todo lo demás, o no, pero curioso resulta en cualquier caso. Mi recomendación es intentar\\nentender el porqué de las diagonales y zonas en blanco\\nque resultan tan llamativas; se aprende algo con ello.\\nTambién se puede comenzar por un ancho de\\n2\\n(donde todos los primos aparecen a la izquierda y sólo el 2 a la derecha) e ir subiendo: esto mostrará la secuencia de los múltiplos de 2, 3, 4, 5… y es también interesante. A veces es meticulosa, a veces es más caótica, con anchos que en ocasiones producen algo que parece código Morse (!) Lo dicho, que cosas más raras pueden llegarse a ver, pareidólicamente hablando.\\nCompartir / Conversar\\nPUBLICIDAD\\nGadgets\\nPonemos a prueba el muy recomendable FineTrack Slim de Ugreen, que viene a ser un AirTag con forma y tamaño de tarjeta de crédito\\nPor\\n@Wicho\\n—\\n15 de agosto de 2025\\nCon motivo de un reciente viaje necesité comprar un AirTag para una pieza extra de equipaje que íbamos a facturar. Pero en lugar de comprar un AirTag propiamente dicho me decidí por el\\nFineTrack Slim\\nde Ugreen, que viene a ser un AirTag con forma y tamaño de tarjeta de crédito. Y\\nfunciona perfectamente\\n.\\nLo cierto es que no tiene mucho que explicar: es como una tarjeta de crédito cualquiera, aunque\\nun milímetro más grueso\\npara un total de 1,76 mm, y pesa\\n15 gramos\\nfrente a los cinco gramos o así de una tarjeta. Pero por lo demás funciona y\\nse comporta como un AirTag\\n.\\nAunque en su exterior se termina el parecido con una tarjeta, ya que por dentro incluye la electrónica necesaria para\\nfuncionar con la red Buscar de Apple\\n, un altavocillo para emitir una señal de alarma de 80 db, y una batería recargable pero no reemplazable de 155mAh que según el fabricante le permite funcionar durante\\nhasta un año\\ncon una sola carga y que dice que tiene una\\nduración de diez años\\n.\\nDe hecho es tan como un AirTag que lo asocias a tu iPhone\\nutilizando la aplicación Buscar\\nde Apple y lo puedes compartir con cualquier otra persona que quieras siempre que su teléfono tenga iOS 17.4 o posterior.\\nA partir de ahí, podrás\\nseguir sus andanzas\\npor el mundo adelante y tener controlada su ubicación. Pero, a diferencia de los AirTags, no soporta la tecnología\\nultra-wideband\\n(UWB), con lo que\\nno ofrece localización de precisión\\n, eso de que cuando estás muy cerca de él el iPhone, suponiendo que sea un modelo con soporte UWB, te indica su posición relativa. También te avisará si\\nte lo dejas en un lugar no habitual\\n, igual, de nuevo, que un AirTag.\\nPor fuera, aparte de la marca, hay un led que indica su estado, un pulsador para encenderlo y apagarlo,\\nun conector magnético específico para el FineTrack Slim\\n, y un agujero para pasar una correa, incluida en la caja, con la que sujetarlo a otro objeto.\\nLa caja incluye un cable USB-A a ese conector que tendrás que guardar con especial cuidado para cuando toque recargarlo. A cambio, eso le proporciona una\\ncertificación IP68\\nque no tendría con un conector USB normal, con lo que puede estar sumergido en agua un tiempo indefinido sin que afecte a su funcionamiento. Por otro lado cualquier tipo de conector USB haría\\nque tuviera que ser más grueso\\n.\\nA la vuelta del citado viaje, que incluía una escala en Madrid, la información proporcionada por el FineTrack Slim nos permitió ver que la maleta en la que iba metido se había quedado allí mientras que nosotros estábamos ya en A Coruña. Y es una tranquilidad poder ir al mostrador de atención y decirle a la persona que te atiende que sabes dónde está la maleta.\\nLo que todavía no está en funcionamiento, o al menos la persona que me atendió no sabía de ello, es la opción de\\ncompartir la ubicación del ítem con la aerolínea\\n, algo que Apple anunció hace unos meses.\\nEn definitiva,\\nestoy encantado con el FineTrack Slim\\n. No sólo porque funciona perfectamente, sino también, y diría que en especial,\\npor su forma\\nya que mi idea es utilizarlo en el futuro con la bolsa en la que llevo mi cámara de fotos y es mucho más fácil disimular su presencia que en el caso de un AirTag. Creo que las ventajas compensan con creces el hecho de que la batería no sea reemplazable o que no soporte UWB.\\nEl precio también ayuda: me costó\\n17 euros en Amazon\\nfrente a los 39 por los que sale un AirTag. Aunque ahora está en 23. Debo haberlo pillado de oferta.\\n_____\\nEl enlace a Amazon lleva nuestro código de asociado, así que si compras el FineTrack Slim o alguna cosa más tras seguirlo es posible que cobremos alguna comisión.\\nCompartir / Conversar\\nPUBLICIDAD\\nPUBLICIDAD\\nPATROCINIOS\\nOferta de verano para patrocinadores de Microsiervos\\nLo más visto recientemente\\nEl mapamundi de la Tierra a «tamaño real» con áreas iguales es una proyección distinta del mundo, con datos del dominio público\\nPreguntas trampa para «ir a pillar» a los LLM: hasta los mejores fallan con preguntas tan triviales\\nLa regla del 90-9-1: por qué la mayoría no participa en redes y comunidades online y hacen que parezcan lo que en realidad no son\\nEnviar código Morse dando golpecitos en una pared o en una tubería es una leyenda urbana\\n¿Cuándo llegamos a Star Trek? Cómo los inventos de la ciencia ficción van tomando forma en el MundoReal™\\n1\\n2\\n3\\n4\\n5\\n6\\n7\\n→\\nAcerca\\xa0de\\xa0Microsiervos\\n•\\nLibro\\n•\\nContactar\\n•\\nBoletín/Newsletter/Correo\\n•\\nPublicidad\\n•\\nLegal\\n•\\nPrivacidad y Cookies'}]"
      ]
     },
     "execution_count": 34,
     "metadata": {},
     "output_type": "execute_result"
    }
   ],
   "source": [
    "messages_for(micro)"
   ]
  },
  {
   "cell_type": "code",
   "execution_count": 38,
   "id": "c5fd863f-5d00-497b-9c42-8823b93056ff",
   "metadata": {},
   "outputs": [],
   "source": [
    "def summarize(url):\n",
    "    website = Website(url)\n",
    "    messages = messages_for(website)\n",
    "    response = ollama.chat(model=MODEL, messages=messages)\n",
    "    return response['message']['content']"
   ]
  },
  {
   "cell_type": "code",
   "execution_count": 36,
   "id": "c717c202-db78-470a-b09f-b1dde37e564c",
   "metadata": {},
   "outputs": [],
   "source": [
    "def display_summary(url):\n",
    "    summary = summarize(url)\n",
    "    display(Markdown(summary))"
   ]
  },
  {
   "cell_type": "code",
   "execution_count": 39,
   "id": "492d7d86-8471-4805-af7b-472ce1cd64ca",
   "metadata": {},
   "outputs": [
    {
     "data": {
      "text/markdown": [
       "**Resumen del sitio web Microsiervos**\n",
       "\n",
       "El sitio web Microsiervos es una plataforma que cubre temas como ciencia, tecnología, internet, historia y más. Se puede encontrar contenido de noticias y artículos sobre estos temas, así como información sobre libros y productos relacionados.\n",
       "\n",
       "**Noticias y anuncios**\n",
       "\n",
       "* En agosto de 2025, se publicaron tres artículos:\n",
       "\t+ Un estudio histórico sobre la criptografía española entre los siglos XV y XVIII.\n",
       "\t+ La colección de las mini libretas sobre electrónica de Forrest Mims fue escaneada en el Archivo de Internet.\n",
       "\t+ La disposición de los números primos cuando se marcan sobre una cuadrícula fue estudiada, encontrando patrones visuales interesantes.\n",
       "* También se anunció un producto llamado FineTrack Slim, que es similar a un AirTag pero con una forma y tamaño más compacto.\n",
       "\n",
       "**Contenido destacado**\n",
       "\n",
       "* Un estudio histórico sobre la criptografía española entre los siglos XV y XVIII.\n",
       "* La colección de las mini libretas sobre electrónica de Forrest Mims fue escaneada en el Archivo de Internet.\n",
       "* La disposición de los números primos cuando se marcan sobre una cuadrícula fue estudiada, encontrando patrones visuales interesantes.\n",
       "\n",
       "**Opciones para interactuar con el sitio**\n",
       "\n",
       "* Sección de \"Libro\" que permite buscar libros y artículos relacionados con la ciencia, tecnología e historia.\n",
       "* Sección de \"Tienda\" que permite comprar productos relacionados con la ciencia, tecnología e historia.\n",
       "* Sección de \"Contactar\" que permite enviar correos electrónicos al editor del sitio."
      ],
      "text/plain": [
       "<IPython.core.display.Markdown object>"
      ]
     },
     "metadata": {},
     "output_type": "display_data"
    }
   ],
   "source": [
    "display_summary(\"https://www.microsiervos.com/\")"
   ]
  }
 ],
 "metadata": {
  "kernelspec": {
   "display_name": "Python 3 (ipykernel)",
   "language": "python",
   "name": "python3"
  },
  "language_info": {
   "codemirror_mode": {
    "name": "ipython",
    "version": 3
   },
   "file_extension": ".py",
   "mimetype": "text/x-python",
   "name": "python",
   "nbconvert_exporter": "python",
   "pygments_lexer": "ipython3",
   "version": "3.11.13"
  }
 },
 "nbformat": 4,
 "nbformat_minor": 5
}
